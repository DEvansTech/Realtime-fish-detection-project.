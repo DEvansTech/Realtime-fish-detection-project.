{
 "metadata": {
  "language_info": {
   "codemirror_mode": {
    "name": "ipython",
    "version": 3
   },
   "file_extension": ".py",
   "mimetype": "text/x-python",
   "name": "python",
   "nbconvert_exporter": "python",
   "pygments_lexer": "ipython3",
   "version": "3.8.5"
  },
  "orig_nbformat": 2,
  "kernelspec": {
   "name": "python3",
   "display_name": "Python 3",
   "language": "python"
  }
 },
 "nbformat": 4,
 "nbformat_minor": 2,
 "cells": [
  {
   "cell_type": "code",
   "execution_count": 115,
   "metadata": {},
   "outputs": [],
   "source": [
    "import os\n",
    "  \n",
    "os.chdir('/media/tamim/Study/Capstone/Datasets/deepfish_stored/7426/Annot_7426')\n",
    "# print(os.getcwd())\n",
    "\n"
   ]
  },
  {
   "cell_type": "code",
   "execution_count": 116,
   "metadata": {},
   "outputs": [
    {
     "output_type": "stream",
     "name": "stdout",
     "text": [
      "/media/tamim/Study/Capstone/Datasets/deepfish_stored/7426/Annot_7426\n"
     ]
    }
   ],
   "source": [
    "\n",
    "path=os.getcwd()\n",
    "print(path)"
   ]
  },
  {
   "cell_type": "code",
   "execution_count": 117,
   "metadata": {},
   "outputs": [
    {
     "output_type": "stream",
     "name": "stdout",
     "text": [
      "['7426_F1_f000018', '7426_F2_f000058', '7426_F3_f000008', '7426_F1_f000095', '7426_F1_f000102']\n"
     ]
    }
   ],
   "source": [
    "txt_list=[]\n",
    "for f in os.listdir():\n",
    "    f_name, f_ext = os.path.splitext(f)\n",
    "    txt_list.append(f_name)\n",
    "print(txt_list[:5])    "
   ]
  },
  {
   "cell_type": "code",
   "execution_count": 118,
   "metadata": {},
   "outputs": [
    {
     "output_type": "stream",
     "name": "stdout",
     "text": [
      "/media/tamim/Study/Capstone/Datasets/deepfish_stored/7426/Images\n"
     ]
    }
   ],
   "source": [
    "os.chdir('/media/tamim/Study/Capstone/Datasets/deepfish_stored/7426/Images')\n",
    "print(os.getcwd())"
   ]
  },
  {
   "cell_type": "code",
   "execution_count": 119,
   "metadata": {},
   "outputs": [],
   "source": [
    "import shutil\n",
    "\n",
    "\n",
    "for files in txt_list:\n",
    "    # print(files)\n",
    "    for f in os.listdir():\n",
    "        f_name,f_ext=os.path.splitext(f)\n",
    "        if files == f_name:\n",
    "            shutil.move(f, path)"
   ]
  },
  {
   "cell_type": "code",
   "execution_count": null,
   "metadata": {},
   "outputs": [],
   "source": []
  }
 ]
}